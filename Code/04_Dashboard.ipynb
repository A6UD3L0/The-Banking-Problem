{
 "cells": [
  {
   "cell_type": "code",
   "execution_count": 5,
   "id": "3c6a8cda-f35d-4107-9d08-7c07d36d7548",
   "metadata": {},
   "outputs": [],
   "source": [
    "# ==============================================================================\n",
    "# Autor(es): Juan Felipe Agudelo Rios                                         |\n",
    "# Titulo: Load Dashboard                                                      |\n",
    "# Fecha creación: 24/12/2023                                                  |\n",
    "# Fecha última modificación: 26/12/2023                                       |\n",
    "# =============================================================================="
   ]
  },
  {
   "cell_type": "code",
   "execution_count": 1,
   "id": "8e9c4e3c-d81b-4bf8-b0c7-66d021e57827",
   "metadata": {},
   "outputs": [
    {
     "name": "stderr",
     "output_type": "stream",
     "text": [
      "/Users/j.agudelo/anaconda3/lib/python3.11/site-packages/shapash/webapp/smart_app.py:121: FutureWarning:\n",
      "\n",
      "DataFrame.applymap has been deprecated. Use DataFrame.map instead.\n",
      "\n",
      "/Users/j.agudelo/anaconda3/lib/python3.11/site-packages/shapash/webapp/utils/utils.py:41: FutureWarning:\n",
      "\n",
      "Index.is_numeric is deprecated. Use pandas.api.types.is_any_real_numeric_dtype instead\n",
      "\n",
      "INFO:root:Your Shapash application run on http://Juans-MacBook-Pro-7.local:8050/\n",
      "INFO:root:Use the method .kill() to down your app.\n",
      "Address already in use\n",
      "Port 8050 is in use by another program. Either identify and stop that program, or start the server with a different port.\n"
     ]
    }
   ],
   "source": [
    "import os\n",
    "import pickle\n",
    "\n",
    "\n",
    "\n",
    "original_directory = \"/Users/j.agudelo/Desktop/CasoFi/\"\n",
    "\n",
    "os.chdir(original_directory)\n",
    "\n",
    "objects = []\n",
    "with (open(\"Output/Dashboard/ShapDashboardInterpretation.pkl\", \"rb\")) as openfile:\n",
    "    while True:\n",
    "        try:\n",
    "            objects.append(pickle.load(openfile))\n",
    "        except EOFError:\n",
    "            break\n",
    "\n",
    "\n",
    "app = objects[0].run_app()"
   ]
  },
  {
   "cell_type": "code",
   "execution_count": null,
   "id": "14926df1-6e9c-45f2-968f-b204ea58f3ab",
   "metadata": {},
   "outputs": [],
   "source": []
  }
 ],
 "metadata": {
  "kernelspec": {
   "display_name": "Python 3 (ipykernel)",
   "language": "python",
   "name": "python3"
  },
  "language_info": {
   "codemirror_mode": {
    "name": "ipython",
    "version": 3
   },
   "file_extension": ".py",
   "mimetype": "text/x-python",
   "name": "python",
   "nbconvert_exporter": "python",
   "pygments_lexer": "ipython3",
   "version": "3.11.5"
  }
 },
 "nbformat": 4,
 "nbformat_minor": 5
}
